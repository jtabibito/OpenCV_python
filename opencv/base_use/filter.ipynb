{
 "cells": [
  {
   "cell_type": "markdown",
   "source": [
    "## 滤波"
   ],
   "metadata": {}
  },
  {
   "cell_type": "code",
   "execution_count": 68,
   "source": [
    "import cv2"
   ],
   "outputs": [],
   "metadata": {}
  },
  {
   "cell_type": "code",
   "execution_count": 69,
   "source": [
    "def imshow(name, img):\r\n",
    "    cv2.imshow(name, img)\r\n",
    "    cv2.waitKey(0)\r\n",
    "    cv2.destroyAllWindows()"
   ],
   "outputs": [],
   "metadata": {}
  },
  {
   "cell_type": "code",
   "execution_count": 70,
   "source": [
    "rabbit = cv2.imread('.\\\\img\\\\rabbit1.jpg', cv2.IMREAD_COLOR)\r\n",
    "rabbit = cv2.resize(rabbit, (960, 540))"
   ],
   "outputs": [],
   "metadata": {}
  },
  {
   "cell_type": "code",
   "execution_count": 71,
   "source": [
    "blur = cv2.blur(rabbit, (3, 3,))\r\n",
    "imshow('blur', blur)"
   ],
   "outputs": [],
   "metadata": {}
  },
  {
   "cell_type": "code",
   "execution_count": 72,
   "source": [
    "box_filter = cv2.boxFilter(rabbit, -1, (3, 3), normalize=True)\r\n",
    "imshow('box_filter', box_filter)"
   ],
   "outputs": [],
   "metadata": {}
  },
  {
   "cell_type": "code",
   "execution_count": 73,
   "source": [
    "gaussian_filter = cv2.GaussianBlur(rabbit, (3, 3), 9, sigmaY=10)\r\n",
    "imshow('gaussian_filter', gaussian_filter)"
   ],
   "outputs": [],
   "metadata": {}
  },
  {
   "cell_type": "code",
   "execution_count": 74,
   "source": [
    "median_filter = cv2.medianBlur(rabbit, 5)\r\n",
    "imshow('median_filter', median_filter)"
   ],
   "outputs": [],
   "metadata": {}
  },
  {
   "cell_type": "code",
   "execution_count": 75,
   "source": [
    "import numpy as np\r\n",
    "\r\n",
    "imgs = np.hstack((blur, box_filter, gaussian_filter, median_filter))\r\n",
    "imshow('filters', imgs)"
   ],
   "outputs": [],
   "metadata": {}
  }
 ],
 "metadata": {
  "orig_nbformat": 4,
  "language_info": {
   "name": "python",
   "version": "3.7.8",
   "mimetype": "text/x-python",
   "codemirror_mode": {
    "name": "ipython",
    "version": 3
   },
   "pygments_lexer": "ipython3",
   "nbconvert_exporter": "python",
   "file_extension": ".py"
  },
  "kernelspec": {
   "name": "python3",
   "display_name": "Python 3.7.8 64-bit"
  },
  "interpreter": {
   "hash": "57baa5815c940fdaff4d14510622de9616cae602444507ba5d0b6727c008cbd6"
  }
 },
 "nbformat": 4,
 "nbformat_minor": 2
}