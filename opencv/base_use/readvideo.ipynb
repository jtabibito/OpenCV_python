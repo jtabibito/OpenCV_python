{
 "cells": [
  {
   "cell_type": "markdown",
   "source": [
    "## opencv读取视频"
   ],
   "metadata": {}
  },
  {
   "cell_type": "code",
   "execution_count": 30,
   "source": [
    "import cv2"
   ],
   "outputs": [],
   "metadata": {}
  },
  {
   "cell_type": "code",
   "execution_count": 31,
   "source": [
    "vc = cv2.VideoCapture('.\\\\video\\\\OneNoteFRE_Welcome.mp4')"
   ],
   "outputs": [],
   "metadata": {}
  },
  {
   "cell_type": "code",
   "execution_count": 32,
   "source": [
    "if vc.isOpened():\r\n",
    "    open, frame = vc.read()\r\n",
    "    print(frame.shape)\r\n",
    "else:\r\n",
    "    open = False"
   ],
   "outputs": [
    {
     "output_type": "stream",
     "name": "stdout",
     "text": [
      "(988, 1200, 3)\n"
     ]
    }
   ],
   "metadata": {}
  },
  {
   "cell_type": "code",
   "execution_count": 33,
   "source": [
    "while open:\r\n",
    "    open, frame = vc.read()\r\n",
    "    if frame is None:\r\n",
    "        break\r\n",
    "    if open:\r\n",
    "        \"\"\"\r\n",
    "        图像置灰\r\n",
    "        \"\"\"\r\n",
    "        gray_frame = cv2.cvtColor(frame, cv2.COLOR_BGR2GRAY)\r\n",
    "        cv2.imshow('video', gray_frame)\r\n",
    "        \"\"\"\r\n",
    "        截取图像\r\n",
    "        \"\"\"\r\n",
    "        # cv2.imshow('video', frame[300:670, 400:1000])\r\n",
    "        if cv2.waitKey(30)&0xFF == 27:\r\n",
    "            break\r\n",
    "vc.release()\r\n",
    "cv2.destroyAllWindows()"
   ],
   "outputs": [],
   "metadata": {}
  }
 ],
 "metadata": {
  "orig_nbformat": 4,
  "language_info": {
   "name": "python",
   "version": "3.7.8",
   "mimetype": "text/x-python",
   "codemirror_mode": {
    "name": "ipython",
    "version": 3
   },
   "pygments_lexer": "ipython3",
   "nbconvert_exporter": "python",
   "file_extension": ".py"
  },
  "kernelspec": {
   "name": "python3",
   "display_name": "Python 3.7.8 64-bit"
  },
  "interpreter": {
   "hash": "57baa5815c940fdaff4d14510622de9616cae602444507ba5d0b6727c008cbd6"
  }
 },
 "nbformat": 4,
 "nbformat_minor": 2
}