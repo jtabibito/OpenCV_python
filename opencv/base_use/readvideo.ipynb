{
 "cells": [
  {
   "cell_type": "markdown",
   "metadata": {},
   "source": [
    "## opencv读取视频"
   ]
  },
  {
   "cell_type": "code",
   "execution_count": 1,
   "metadata": {},
   "outputs": [],
   "source": [
    "import cv2"
   ]
  },
  {
   "cell_type": "code",
   "execution_count": 2,
   "metadata": {},
   "outputs": [],
   "source": [
    "vc = cv2.VideoCapture('.\\\\video\\\\OneNoteFRE_Welcome.mp4')"
   ]
  },
  {
   "cell_type": "code",
   "execution_count": 3,
   "metadata": {},
   "outputs": [
    {
     "name": "stdout",
     "output_type": "stream",
     "text": [
      "(988, 1200, 3)\n"
     ]
    }
   ],
   "source": [
    "if vc.isOpened():\n",
    "    open, frame = vc.read()\n",
    "    print(frame.shape)\n",
    "else:\n",
    "    open = False"
   ]
  },
  {
   "cell_type": "code",
   "execution_count": 4,
   "metadata": {},
   "outputs": [],
   "source": [
    "while open:\n",
    "    open, frame = vc.read()\n",
    "    if frame is None:\n",
    "        break\n",
    "    if open:\n",
    "        \"\"\"\n",
    "        图像置灰\n",
    "        \"\"\"\n",
    "        gray_frame = cv2.cvtColor(frame, cv2.COLOR_BGR2GRAY)\n",
    "        cv2.imshow('video', gray_frame)\n",
    "        \"\"\"\n",
    "        截取图像\n",
    "        \"\"\"\n",
    "        # cv2.imshow('video', frame[300:670, 400:1000])\n",
    "        if cv2.waitKey(30)&0xFF == 27:\n",
    "            break\n",
    "vc.release()\n",
    "cv2.destroyAllWindows()"
   ]
  }
 ],
 "metadata": {
  "interpreter": {
   "hash": "cfdd377359446e54a0dbc4147c344b93f39386d0ac34b81f8fbd11ee54488472"
  },
  "kernelspec": {
   "display_name": "Python 3.8.1 64-bit",
   "name": "python3"
  },
  "language_info": {
   "codemirror_mode": {
    "name": "ipython",
    "version": 3
   },
   "file_extension": ".py",
   "mimetype": "text/x-python",
   "name": "python",
   "nbconvert_exporter": "python",
   "pygments_lexer": "ipython3",
   "version": "3.8.1"
  },
  "orig_nbformat": 4
 },
 "nbformat": 4,
 "nbformat_minor": 2
}
