{
 "cells": [
  {
   "cell_type": "markdown",
   "metadata": {},
   "source": [
    "# 边界检测"
   ]
  },
  {
   "cell_type": "markdown",
   "metadata": {},
   "source": [
    "## Sobel\n",
    "+ cv2.Sobel:\n",
    "  + ddepth:图像深度\n",
    "  + dx:水平方向\n",
    "  + dy:竖直方向\n",
    "  + ksize:核大小"
   ]
  },
  {
   "cell_type": "code",
   "execution_count": 1,
   "metadata": {},
   "outputs": [],
   "source": [
    "import numpy as np\n",
    "import cv2"
   ]
  },
  {
   "cell_type": "code",
   "execution_count": 2,
   "metadata": {},
   "outputs": [],
   "source": [
    "def imshow(name, img):\n",
    "    cv2.imshow(name, img)\n",
    "    cv2.waitKey(0)\n",
    "    cv2.destroyAllWindows()"
   ]
  },
  {
   "cell_type": "code",
   "execution_count": 3,
   "metadata": {},
   "outputs": [],
   "source": [
    "rabbit = cv2.imread('.\\\\img\\\\rabbit1.jpg', cv2.IMREAD_COLOR)\n",
    "rabbit = cv2.resize(rabbit, (480, 270))\n",
    "imshow('rabbit', rabbit)"
   ]
  },
  {
   "cell_type": "code",
   "execution_count": 4,
   "metadata": {},
   "outputs": [],
   "source": [
    "ksobel = 3\n",
    "gray_rabbit = cv2.cvtColor(rabbit, cv2.COLOR_BGR2GRAY)\n",
    "sobel_rabbit_horizontal = cv2.Sobel(gray_rabbit, cv2.CV_64F, 1, 0, ksize=3)\n",
    "# res, thresh_rabbit = cv2.threshold(gray_rabbit, 127, 255, cv2.THRESH_OTSU)\n",
    "# sobel_rabbit_horizontal = cv2.Sobel(thresh_rabbit, cv2.CV_64F, 1, 0, ksize=3)\n",
    "sobel_rabbit_horizontal = cv2.convertScaleAbs(sobel_rabbit_horizontal)\n",
    "imshow('rabbit_sobel_horizontal', sobel_rabbit_horizontal)"
   ]
  },
  {
   "cell_type": "code",
   "execution_count": 5,
   "metadata": {},
   "outputs": [],
   "source": [
    "sobel_rabbit_vertical = cv2.Sobel(gray_rabbit, cv2.CV_64F, 0, 1, ksize=3)\n",
    "# sobel_rabbit_vertical = cv2.Sobel(thresh_rabbit, cv2.CV_64F, 0, 1, ksize=3)\n",
    "sobel_rabbit_vertical = cv2.convertScaleAbs(sobel_rabbit_vertical)\n",
    "imshow('rabbit_sobel_vertical', sobel_rabbit_vertical)"
   ]
  },
  {
   "cell_type": "code",
   "execution_count": 6,
   "metadata": {},
   "outputs": [],
   "source": [
    "sobel_rabbit = cv2.addWeighted(sobel_rabbit_horizontal, 0.5, sobel_rabbit_vertical, 0.5, 0)\n",
    "rabbit_stack = np.hstack((gray_rabbit, sobel_rabbit))\n",
    "imshow('rabbit', rabbit_stack)"
   ]
  },
  {
   "cell_type": "markdown",
   "metadata": {},
   "source": [
    "## Scharr\n",
    "+ cv2.Scharr:\n",
    "  + ddepth:图像深度\n",
    "  + dx:水平方向\n",
    "  + dy:竖直方向\n",
    "  + ksize:核大小"
   ]
  },
  {
   "cell_type": "code",
   "execution_count": 7,
   "metadata": {},
   "outputs": [],
   "source": [
    "scharr_rabbit_horizontal = cv2.convertScaleAbs(cv2.Scharr(gray_rabbit, cv2.CV_64F, 1, 0))\n",
    "scharr_rabbit_vertiacal = cv2.convertScaleAbs(cv2.Scharr(gray_rabbit, cv2.CV_64F, 0, 1))\n",
    "scharr_rabbit = cv2.addWeighted(scharr_rabbit_horizontal, 0.5, scharr_rabbit_vertiacal, 0.5, 0)\n",
    "rabbit_stack = np.hstack((gray_rabbit, scharr_rabbit))\n",
    "imshow('rabbit', rabbit_stack)"
   ]
  },
  {
   "cell_type": "markdown",
   "metadata": {},
   "source": [
    "## Laplcaian\n",
    "+ cv2.Laplacian"
   ]
  },
  {
   "cell_type": "code",
   "execution_count": 8,
   "metadata": {},
   "outputs": [],
   "source": [
    "laplacian_rabbit = cv2.Laplacian(gray_rabbit, cv2.CV_64F)\n",
    "laplacian_rabbit = cv2.convertScaleAbs(laplacian_rabbit)\n",
    "rabbit_stack = np.hstack((gray_rabbit, laplacian_rabbit))\n",
    "imshow('rabbit', rabbit_stack)"
   ]
  },
  {
   "cell_type": "markdown",
   "metadata": {},
   "source": [
    "## Canny\n",
    "  + 原理:\n",
    "    1. 先用高斯滤波平滑处理图像,消除噪点\n",
    "    2. 计算图像每个像素点的梯度\n",
    "    3. 使用非极大值抑制,消除边缘检测杂散响应\n",
    "    4. 使用双阈值检测确定真实边缘和潜在边缘\n",
    "    5. 抑制孤立的弱边缘完成边缘检测\n",
    "  + cv2.Canny"
   ]
  },
  {
   "cell_type": "code",
   "execution_count": 9,
   "metadata": {},
   "outputs": [],
   "source": [
    "canny_rabbit = cv2.Canny(gray_rabbit, 80, 100)\n",
    "canny_rabbit2 = cv2.Canny(gray_rabbit, 50, 100)\n",
    "rabbit_stack = np.hstack((gray_rabbit, canny_rabbit, canny_rabbit2))\n",
    "imshow('rabbit', rabbit_stack)"
   ]
  }
 ],
 "metadata": {
  "interpreter": {
   "hash": "cfdd377359446e54a0dbc4147c344b93f39386d0ac34b81f8fbd11ee54488472"
  },
  "kernelspec": {
   "display_name": "Python 3.8.1 64-bit",
   "name": "python3"
  },
  "language_info": {
   "codemirror_mode": {
    "name": "ipython",
    "version": 3
   },
   "file_extension": ".py",
   "mimetype": "text/x-python",
   "name": "python",
   "nbconvert_exporter": "python",
   "pygments_lexer": "ipython3",
   "version": "3.8.1"
  },
  "orig_nbformat": 4
 },
 "nbformat": 4,
 "nbformat_minor": 2
}
