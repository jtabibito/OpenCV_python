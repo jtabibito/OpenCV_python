{
 "cells": [
  {
   "cell_type": "markdown",
   "source": [
    "# 边界检测"
   ],
   "metadata": {}
  },
  {
   "cell_type": "markdown",
   "source": [
    "## Sobel\r\n",
    "+ cv2.Sobel:\r\n",
    "  + ddepth:图像深度\r\n",
    "  + dx:水平方向\r\n",
    "  + dy:竖直方向\r\n",
    "  + ksize:核大小"
   ],
   "metadata": {}
  },
  {
   "cell_type": "code",
   "execution_count": 108,
   "source": [
    "import numpy as np\r\n",
    "import cv2"
   ],
   "outputs": [],
   "metadata": {}
  },
  {
   "cell_type": "code",
   "execution_count": 109,
   "source": [
    "def imshow(name, img):\r\n",
    "    cv2.imshow(name, img)\r\n",
    "    cv2.waitKey(0)\r\n",
    "    cv2.destroyAllWindows()"
   ],
   "outputs": [],
   "metadata": {}
  },
  {
   "cell_type": "code",
   "execution_count": 110,
   "source": [
    "rabbit = cv2.imread('.\\\\img\\\\rabbit1.jpg', cv2.IMREAD_COLOR)\r\n",
    "rabbit = cv2.resize(rabbit, (480, 270))\r\n",
    "imshow('rabbit', rabbit)"
   ],
   "outputs": [],
   "metadata": {}
  },
  {
   "cell_type": "code",
   "execution_count": 111,
   "source": [
    "ksobel = 3\r\n",
    "gray_rabbit = cv2.cvtColor(rabbit, cv2.COLOR_BGR2GRAY)\r\n",
    "sobel_rabbit_horizontal = cv2.Sobel(gray_rabbit, cv2.CV_64F, 1, 0, ksize=3)\r\n",
    "# res, thresh_rabbit = cv2.threshold(gray_rabbit, 127, 255, cv2.THRESH_OTSU)\r\n",
    "# sobel_rabbit_horizontal = cv2.Sobel(thresh_rabbit, cv2.CV_64F, 1, 0, ksize=3)\r\n",
    "sobel_rabbit_horizontal = cv2.convertScaleAbs(sobel_rabbit_horizontal)\r\n",
    "imshow('rabbit_sobel_horizontal', sobel_rabbit_horizontal)"
   ],
   "outputs": [],
   "metadata": {}
  },
  {
   "cell_type": "code",
   "execution_count": 112,
   "source": [
    "sobel_rabbit_vertical = cv2.Sobel(gray_rabbit, cv2.CV_64F, 0, 1, ksize=3)\r\n",
    "# sobel_rabbit_vertical = cv2.Sobel(thresh_rabbit, cv2.CV_64F, 0, 1, ksize=3)\r\n",
    "sobel_rabbit_vertical = cv2.convertScaleAbs(sobel_rabbit_vertical)\r\n",
    "imshow('rabbit_sobel_vertical', sobel_rabbit_vertical)"
   ],
   "outputs": [],
   "metadata": {}
  },
  {
   "cell_type": "code",
   "execution_count": 113,
   "source": [
    "sobel_rabbit = cv2.addWeighted(sobel_rabbit_horizontal, 0.5, sobel_rabbit_vertical, 0.5, 0)\r\n",
    "rabbit_stack = np.hstack((gray_rabbit, sobel_rabbit))\r\n",
    "imshow('rabbit', rabbit_stack)"
   ],
   "outputs": [],
   "metadata": {}
  },
  {
   "cell_type": "markdown",
   "source": [
    "## Scharr\r\n",
    "+ cv2.Scharr:\r\n",
    "  + ddepth:图像深度\r\n",
    "  + dx:水平方向\r\n",
    "  + dy:竖直方向\r\n",
    "  + ksize:核大小"
   ],
   "metadata": {}
  },
  {
   "cell_type": "code",
   "execution_count": 114,
   "source": [
    "scharr_rabbit_horizontal = cv2.convertScaleAbs(cv2.Scharr(gray_rabbit, cv2.CV_64F, 1, 0))\r\n",
    "scharr_rabbit_vertiacal = cv2.convertScaleAbs(cv2.Scharr(gray_rabbit, cv2.CV_64F, 0, 1))\r\n",
    "scharr_rabbit = cv2.addWeighted(scharr_rabbit_horizontal, 0.5, scharr_rabbit_vertiacal, 0.5, 0)\r\n",
    "rabbit_stack = np.hstack((gray_rabbit, scharr_rabbit))\r\n",
    "imshow('rabbit', rabbit_stack)"
   ],
   "outputs": [],
   "metadata": {}
  },
  {
   "cell_type": "markdown",
   "source": [
    "## Laplcaian\r\n",
    "+ cv2.Laplacian"
   ],
   "metadata": {}
  },
  {
   "cell_type": "code",
   "execution_count": 115,
   "source": [
    "laplacian_rabbit = cv2.Laplacian(gray_rabbit, cv2.CV_64F)\r\n",
    "laplacian_rabbit = cv2.convertScaleAbs(laplacian_rabbit)\r\n",
    "rabbit_stack = np.hstack((gray_rabbit, laplacian_rabbit))\r\n",
    "imshow('rabbit', rabbit_stack)"
   ],
   "outputs": [],
   "metadata": {}
  },
  {
   "cell_type": "markdown",
   "source": [
    "## Canny\r\n",
    "  + 原理:\r\n",
    "    1. 先用高斯滤波平滑处理图像,消除噪点\r\n",
    "    2. 计算图像每个像素点的梯度\r\n",
    "    3. 使用非极大值抑制,消除边缘检测杂散响应\r\n",
    "    4. 使用双阈值检测确定真实边缘和潜在边缘\r\n",
    "    5. 抑制孤立的弱边缘完成边缘检测\r\n",
    "  + cv2.Canny"
   ],
   "metadata": {}
  },
  {
   "cell_type": "code",
   "execution_count": 116,
   "source": [
    "canny_rabbit = cv2.Canny(gray_rabbit, 80, 100)\r\n",
    "canny_rabbit2 = cv2.Canny(gray_rabbit, 50, 100)\r\n",
    "rabbit_stack = np.hstack((gray_rabbit, canny_rabbit, canny_rabbit2))\r\n",
    "imshow('rabbit', rabbit_stack)"
   ],
   "outputs": [],
   "metadata": {}
  }
 ],
 "metadata": {
  "orig_nbformat": 4,
  "language_info": {
   "name": "python",
   "version": "3.7.8",
   "mimetype": "text/x-python",
   "codemirror_mode": {
    "name": "ipython",
    "version": 3
   },
   "pygments_lexer": "ipython3",
   "nbconvert_exporter": "python",
   "file_extension": ".py"
  },
  "kernelspec": {
   "name": "python3",
   "display_name": "Python 3.7.8 64-bit"
  },
  "interpreter": {
   "hash": "57baa5815c940fdaff4d14510622de9616cae602444507ba5d0b6727c008cbd6"
  }
 },
 "nbformat": 4,
 "nbformat_minor": 2
}