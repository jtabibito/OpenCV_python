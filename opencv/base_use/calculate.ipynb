{
 "cells": [
  {
   "cell_type": "markdown",
   "source": [
    "## 数值计算"
   ],
   "metadata": {}
  },
  {
   "cell_type": "code",
   "execution_count": 18,
   "source": [
    "import cv2"
   ],
   "outputs": [],
   "metadata": {}
  },
  {
   "cell_type": "code",
   "execution_count": 19,
   "source": [
    "def imshow(name, img):\r\n",
    "    cv2.imshow(name, img)\r\n",
    "    cv2.waitKey(0)\r\n",
    "    cv2.destroyAllWindows()"
   ],
   "outputs": [],
   "metadata": {}
  },
  {
   "cell_type": "code",
   "execution_count": 20,
   "source": [
    "rabbit = cv2.imread('.\\\\img\\\\rabbit1.jpg', cv2.IMREAD_COLOR)\r\n",
    "cat = cv2.imread('.\\\\img\\\\cat1.jpg', cv2.IMREAD_COLOR)"
   ],
   "outputs": [],
   "metadata": {}
  },
  {
   "cell_type": "code",
   "execution_count": 21,
   "source": [
    "print(rabbit.shape, cat.shape)"
   ],
   "outputs": [
    {
     "output_type": "stream",
     "name": "stdout",
     "text": [
      "(1080, 1920, 3) (1080, 1920, 3)\n"
     ]
    }
   ],
   "metadata": {}
  },
  {
   "cell_type": "code",
   "execution_count": 30,
   "source": [
    "rabbit_add255 = rabbit+255 # uint8 -> (a+b)%0x100\r\n",
    "print(rabbit[:5,:,0])\r\n",
    "print(rabbit_add255[:5,:,0])\r\n",
    "imshow('rabbit_add255', rabbit_add255)"
   ],
   "outputs": [
    {
     "output_type": "stream",
     "name": "stdout",
     "text": [
      "[[60 61 63 ... 43 43 42]\n",
      " [60 62 63 ... 45 44 44]\n",
      " [61 62 64 ... 46 46 47]\n",
      " [62 62 63 ... 46 47 47]\n",
      " [63 63 61 ... 45 45 46]]\n",
      "[[59 60 62 ... 42 42 41]\n",
      " [59 61 62 ... 44 43 43]\n",
      " [60 61 63 ... 45 45 46]\n",
      " [61 61 62 ... 45 46 46]\n",
      " [62 62 60 ... 44 44 45]]\n"
     ]
    }
   ],
   "metadata": {}
  },
  {
   "cell_type": "code",
   "execution_count": 35,
   "source": [
    "rabbit_add_cat = cv2.add(rabbit, cat) # less or equals 255\r\n",
    "imshow('rabbit_add_cat', rabbit_add_cat)"
   ],
   "outputs": [],
   "metadata": {}
  },
  {
   "cell_type": "code",
   "execution_count": 45,
   "source": [
    "rabbit_add_cat = cv2.addWeighted(rabbit, 0.4, cat, 0.6, 0)\r\n",
    "imshow('rabbit_add_cat', rabbit_add_cat)"
   ],
   "outputs": [],
   "metadata": {}
  }
 ],
 "metadata": {
  "orig_nbformat": 4,
  "language_info": {
   "name": "python",
   "version": "3.7.8",
   "mimetype": "text/x-python",
   "codemirror_mode": {
    "name": "ipython",
    "version": 3
   },
   "pygments_lexer": "ipython3",
   "nbconvert_exporter": "python",
   "file_extension": ".py"
  },
  "kernelspec": {
   "name": "python3",
   "display_name": "Python 3.7.8 64-bit"
  },
  "interpreter": {
   "hash": "57baa5815c940fdaff4d14510622de9616cae602444507ba5d0b6727c008cbd6"
  }
 },
 "nbformat": 4,
 "nbformat_minor": 2
}