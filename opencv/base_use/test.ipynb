{
 "cells": [
  {
   "cell_type": "markdown",
   "source": [
    "## 图像灰度测试"
   ],
   "metadata": {}
  },
  {
   "cell_type": "code",
   "execution_count": 1,
   "source": [
    "import numpy as np\r\n",
    "import cv2"
   ],
   "outputs": [],
   "metadata": {}
  },
  {
   "cell_type": "code",
   "execution_count": 2,
   "source": [
    "def imshow(name, img):\r\n",
    "    cv2.imshow(name, img)\r\n",
    "    cv2.waitKey(0)\r\n",
    "    cv2.destroyAllWindows()"
   ],
   "outputs": [],
   "metadata": {}
  },
  {
   "cell_type": "code",
   "execution_count": 3,
   "source": [
    "rabbit_img = '.\\\\img\\\\rabbit1.jpg'"
   ],
   "outputs": [],
   "metadata": {}
  },
  {
   "cell_type": "code",
   "execution_count": 4,
   "source": [
    "rabbit = cv2.imread(rabbit_img)\r\n",
    "rabbit = cv2.resize(rabbit, (480, 270))\r\n",
    "print(rabbit.shape)\r\n",
    "imshow('rabbit', rabbit)"
   ],
   "outputs": [
    {
     "output_type": "stream",
     "name": "stdout",
     "text": [
      "(270, 480, 3)\n"
     ]
    }
   ],
   "metadata": {}
  },
  {
   "cell_type": "code",
   "execution_count": 5,
   "source": [
    "rabbit_cvt = np.dot(rabbit, [0.114, 0.587, 0.299])\r\n",
    "# 必须强转为uin8类型\r\n",
    "imshow('rabbit_gray', (rabbit_cvt+0.5).astype(np.uint8))"
   ],
   "outputs": [],
   "metadata": {}
  },
  {
   "cell_type": "code",
   "execution_count": 6,
   "source": [
    "def cvtColor2Gray(img):\r\n",
    "    gray = (np.dot(img, np.array([0.114, 0.587, 0.299]))+0.5).astype(np.uint8)\r\n",
    "    return gray\r\n",
    "\r\n",
    "# cvtColor2Gray(rabbit)"
   ],
   "outputs": [],
   "metadata": {}
  },
  {
   "cell_type": "markdown",
   "source": [
    "## Triangle阈值原理"
   ],
   "metadata": {}
  },
  {
   "cell_type": "code",
   "execution_count": 7,
   "source": [
    "def Threshold_Triangle(img):\r\n",
    "    \"\"\"\r\n",
    "    图片置灰处理\r\n",
    "    \"\"\"\r\n",
    "    gray = cvtColor2Gray(img)\r\n",
    "    gray_shape = gray.shape # 记录置灰后图片数据shape,然后将图片数据展平\r\n",
    "    gray = gray.flatten()\r\n",
    "\r\n",
    "    histogram = np.zeros((256))\r\n",
    "    for i in range(len(gray)):\r\n",
    "        histogram[gray[i]] += 1\r\n",
    "    \r\n",
    "    for i in range(len(histogram)):\r\n",
    "        if histogram[i] != 0:\r\n",
    "            bleft = i-1\r\n",
    "            break\r\n",
    "\r\n",
    "    for i in range(len(histogram)-1, -1, -1):\r\n",
    "        if histogram[i] != 0:\r\n",
    "            bright = i+1\r\n",
    "            break\r\n",
    "\r\n",
    "    flipped = False\r\n",
    "    max_id = np.argmax(histogram)\r\n",
    "    max_pixel = histogram[max_id]\r\n",
    "    if max_id-bleft < bright-max_id:\r\n",
    "        flipped = True\r\n",
    "        start = 0\r\n",
    "        end = 255-start\r\n",
    "        while start < end:\r\n",
    "            temp = histogram[start]\r\n",
    "            histogram[start] = histogram[end]\r\n",
    "            histogram[end] = temp\r\n",
    "            start += 1\r\n",
    "            end -= 1\r\n",
    "        bleft = 255-bright\r\n",
    "        max_id = 255-max_id\r\n",
    "\r\n",
    "    \"\"\"\r\n",
    "    直线一般方程:\r\n",
    "    A = y2-y1, B = x1-x2, C = x2*y1 - x1*y2\r\n",
    "    点到直线距离:\r\n",
    "    d = |A*x + B*y + C|/(A**2 + B**2)**0.5\r\n",
    "    点到直线最大值： A*x + B*y最大\r\n",
    "    \"\"\"\r\n",
    "    a = max_pixel-histogram[bleft] # A = y2-y1\r\n",
    "    b = bleft-max_id               # B = x1-x2, C = x2*y1 - x1*y2\r\n",
    "    maxdist = 0\r\n",
    "    for i in range(bleft+1, max_id+1):\r\n",
    "        dist = a*i + b*histogram[i]\r\n",
    "        if dist > maxdist:\r\n",
    "            maxdist = dist\r\n",
    "            threshold = i\r\n",
    "    threshold -= 1\r\n",
    "\r\n",
    "    if flipped:\r\n",
    "        threshold = 255-threshold\r\n",
    "\r\n",
    "    for i in range(len(gray)):\r\n",
    "        if gray[i] > threshold:\r\n",
    "            gray[i] = 255\r\n",
    "        else:\r\n",
    "            gray[i] = 0\r\n",
    "    return np.reshape(gray, gray_shape) # 将图片数据还原为原shape"
   ],
   "outputs": [],
   "metadata": {}
  },
  {
   "cell_type": "code",
   "execution_count": 8,
   "source": [
    "threshold_triangle = Threshold_Triangle(rabbit)\r\n",
    "imshow('threshold_triangle', threshold_triangle)"
   ],
   "outputs": [],
   "metadata": {}
  },
  {
   "cell_type": "markdown",
   "source": [
    "## OTSU阈值原理"
   ],
   "metadata": {}
  },
  {
   "cell_type": "code",
   "execution_count": 9,
   "source": [
    "def Threshold_OTSU(img):\r\n",
    "    \"\"\"\r\n",
    "    图片置灰处理\r\n",
    "    \"\"\"\r\n",
    "    gray = cvtColor2Gray(img)\r\n",
    "    gray_shape = gray.shape  # 记录置灰后图片数据shape,然后将图片数据展平\r\n",
    "    gray = gray.flatten()\r\n",
    "\r\n",
    "    histogram = np.zeros((256))\r\n",
    "    valid_pixel_sum = 0\r\n",
    "    for i in range(len(gray)):\r\n",
    "        histogram[gray[i]] += 1\r\n",
    "        if gray[i] != 0:\r\n",
    "            valid_pixel_sum += 1\r\n",
    "    \r\n",
    "    for i in range(len(histogram)):\r\n",
    "        if histogram[i] != 0:\r\n",
    "            bleft = i\r\n",
    "            break\r\n",
    "    \r\n",
    "    for i in range(len(histogram)-1, -1, -1):\r\n",
    "        if histogram[i] != 0:\r\n",
    "            bright = i\r\n",
    "            break\r\n",
    "\r\n",
    "    \"\"\"\r\n",
    "    假设:有阈值T,根据像素值分类为C1(pixel<T),C2(pixel>=T),\r\n",
    "    * 像素分在C1,C2类概率为p0,p1,\r\n",
    "    * C1,C2均值为avg0,avg1,图像均值为avgG\r\n",
    "    >>> avg0*p0 + avg1*p1 = avgG                         (1)\r\n",
    "    >>> p0+p1 = 1                                        (2)\r\n",
    "    类间协方差为:\r\n",
    "    >>> sigma**2 = p0*(avg0-avgG)**2 + p1*(avg1-avgG)**2 (3)\r\n",
    "    >>> sigma**2 = p0*p1(avg0-avg1)**2                   (4)\r\n",
    "    \"\"\"\r\n",
    "    max_variance = 0\r\n",
    "    threshold = 0\r\n",
    "    for i in range(bleft, bright+1):\r\n",
    "        avg0, p0, avg1, p1 = (0, 0, 0, 0)\r\n",
    "        for j in range(0, i+1):\r\n",
    "            avg0 += histogram[j]\r\n",
    "            p0 += j*histogram[j]\r\n",
    "        if avg0 == 0:\r\n",
    "            break\r\n",
    "        p0 = p0/avg0\r\n",
    "        avg0 = avg0/valid_pixel_sum\r\n",
    "\r\n",
    "        for j in range(i+1, 255):\r\n",
    "            avg1 += histogram[j]\r\n",
    "            p1 += j*histogram[j]\r\n",
    "        if avg1 == 0:\r\n",
    "            break\r\n",
    "        p1 = p1/avg1\r\n",
    "        avg1 = avg1/valid_pixel_sum\r\n",
    "\r\n",
    "        variance = avg0*avg1*(p1-p0)**2\r\n",
    "        if variance > max_variance:\r\n",
    "            max_variance = variance\r\n",
    "            threshold = i\r\n",
    "\r\n",
    "    for i in range(len(gray)):\r\n",
    "        if gray[i] > threshold:\r\n",
    "            gray[i] = 255\r\n",
    "        else:\r\n",
    "            gray[i] = 0\r\n",
    "    return np.reshape(gray, gray_shape) # 将图片数据还原为原shape"
   ],
   "outputs": [],
   "metadata": {}
  },
  {
   "cell_type": "code",
   "execution_count": 10,
   "source": [
    "threshold_otsu = Threshold_OTSU(rabbit)\r\n",
    "imshow('threshold_otsu', threshold_otsu)"
   ],
   "outputs": [],
   "metadata": {}
  }
 ],
 "metadata": {
  "orig_nbformat": 4,
  "language_info": {
   "name": "python",
   "version": "3.7.8",
   "mimetype": "text/x-python",
   "codemirror_mode": {
    "name": "ipython",
    "version": 3
   },
   "pygments_lexer": "ipython3",
   "nbconvert_exporter": "python",
   "file_extension": ".py"
  },
  "kernelspec": {
   "name": "python3",
   "display_name": "Python 3.7.8 64-bit"
  },
  "interpreter": {
   "hash": "57baa5815c940fdaff4d14510622de9616cae602444507ba5d0b6727c008cbd6"
  }
 },
 "nbformat": 4,
 "nbformat_minor": 2
}