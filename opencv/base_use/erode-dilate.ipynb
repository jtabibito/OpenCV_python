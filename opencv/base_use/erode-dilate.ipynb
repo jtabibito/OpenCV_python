{
 "cells": [
  {
   "cell_type": "markdown",
   "source": [
    "## 腐蚀"
   ],
   "metadata": {}
  },
  {
   "cell_type": "code",
   "execution_count": 1,
   "source": [
    "import numpy as np\r\n",
    "import cv2"
   ],
   "outputs": [],
   "metadata": {}
  },
  {
   "cell_type": "code",
   "execution_count": 2,
   "source": [
    "def imshow(name, img):\r\n",
    "    cv2.imshow(name, img)\r\n",
    "    cv2.waitKey(0)\r\n",
    "    cv2.destroyAllWindows()"
   ],
   "outputs": [],
   "metadata": {}
  },
  {
   "cell_type": "code",
   "execution_count": 3,
   "source": [
    "rabbit = cv2.imread('.\\\\img\\\\rabbit1.jpg')\r\n",
    "rabbit = cv2.resize(rabbit, (480, 270))\r\n",
    "imshow('rabbit', rabbit)"
   ],
   "outputs": [],
   "metadata": {}
  },
  {
   "cell_type": "code",
   "execution_count": 4,
   "source": [
    "kerode = np.ones((3, 3))\r\n",
    "rabbit_erode = cv2.erode(rabbit, kerode)\r\n",
    "imshow('rabbit_erode', rabbit_erode)"
   ],
   "outputs": [],
   "metadata": {}
  },
  {
   "cell_type": "code",
   "execution_count": 5,
   "source": [
    "cat = cv2.imread('.\\\\img\\\\cat1.jpg')\r\n",
    "cat = cv2.resize(cat, (480, 270))\r\n",
    "imshow('cat', cat)"
   ],
   "outputs": [],
   "metadata": {}
  },
  {
   "cell_type": "code",
   "execution_count": 6,
   "source": [
    "gray_cat = cv2.cvtColor(cat, cv2.COLOR_BGR2GRAY)\r\n",
    "res,thresh_cat = cv2.threshold(gray_cat, 127, 255, type=cv2.THRESH_OTSU)\r\n",
    "cat_stack = np.hstack((gray_cat, thresh_cat))\r\n",
    "imshow('cat_binary', cat_stack)"
   ],
   "outputs": [],
   "metadata": {}
  },
  {
   "cell_type": "code",
   "execution_count": 7,
   "source": [
    "kerode = np.ones((3, 3))\r\n",
    "cat_erode1 = cv2.erode(thresh_cat, kerode, iterations=1)\r\n",
    "cat_erode2 = cv2.erode(thresh_cat, kerode, iterations=2)\r\n",
    "cat_erode3 = cv2.erode(thresh_cat, kerode, iterations=3)\r\n",
    "cat_stack = np.hstack((cat_erode1, cat_erode2, cat_erode3))\r\n",
    "imshow('cat_erode', cat_stack)"
   ],
   "outputs": [],
   "metadata": {}
  },
  {
   "cell_type": "markdown",
   "source": [
    "## 膨胀"
   ],
   "metadata": {}
  },
  {
   "cell_type": "code",
   "execution_count": 8,
   "source": [
    "kdilate = np.ones((3, 3))\r\n",
    "cat_dilate1 = cv2.dilate(cat_erode1, kdilate, iterations=1)\r\n",
    "cat_dilate2 = cv2.dilate(cat_erode2, kdilate, iterations=2)\r\n",
    "cat_dilate3 = cv2.dilate(cat_erode3, kdilate, iterations=3)\r\n",
    "cat_stack = np.hstack((cat_dilate1, cat_dilate2, cat_dilate3))\r\n",
    "imshow('cat_dilate', cat_stack)"
   ],
   "outputs": [],
   "metadata": {}
  },
  {
   "cell_type": "markdown",
   "source": [
    "## 开运算 先腐蚀再膨胀"
   ],
   "metadata": {}
  },
  {
   "cell_type": "code",
   "execution_count": 9,
   "source": [
    "kopen = np.ones((3, 3))\r\n",
    "cat_open = cv2.morphologyEx(thresh_cat, cv2.MORPH_OPEN, kopen)\r\n",
    "imshow('cat_open', cat_open)"
   ],
   "outputs": [],
   "metadata": {}
  },
  {
   "cell_type": "markdown",
   "source": [
    "## 闭运算 先膨胀再腐蚀"
   ],
   "metadata": {}
  },
  {
   "cell_type": "code",
   "execution_count": 10,
   "source": [
    "kclose = np.ones((3, 3))\r\n",
    "cat_close = cv2.morphologyEx(thresh_cat, cv2.MORPH_CLOSE, kclose)\r\n",
    "imshow('cat_close', cat_close)"
   ],
   "outputs": [],
   "metadata": {}
  },
  {
   "cell_type": "markdown",
   "source": [
    "## 梯度=膨胀-腐蚀"
   ],
   "metadata": {}
  },
  {
   "cell_type": "code",
   "execution_count": 11,
   "source": [
    "kgradient = np.ones((3, 3))\r\n",
    "cat_gradient = cv2.morphologyEx(thresh_cat, cv2.MORPH_GRADIENT, kgradient)\r\n",
    "imshow('cat_gradient', cat_gradient)"
   ],
   "outputs": [],
   "metadata": {}
  },
  {
   "cell_type": "markdown",
   "source": [
    "## 礼帽黑帽\r\n",
    "+ 礼帽=原始输入-开运算\r\n",
    "+ 黑帽=闭运算-原始输入"
   ],
   "metadata": {}
  },
  {
   "cell_type": "code",
   "execution_count": 12,
   "source": [
    "ktophat = np.ones((3, 3,))\r\n",
    "cat_tophat = cv2.morphologyEx(thresh_cat, cv2.MORPH_TOPHAT, ktophat)\r\n",
    "imshow('cat_tophat', cat_tophat)\r\n",
    "\r\n",
    "kblackhat = np.ones((3, 3))\r\n",
    "cat_blackhat = cv2.morphologyEx(thresh_cat, cv2.MORPH_BLACKHAT, kblackhat)\r\n",
    "imshow('cat_blackhat', cat_blackhat)"
   ],
   "outputs": [],
   "metadata": {}
  }
 ],
 "metadata": {
  "orig_nbformat": 4,
  "language_info": {
   "name": "python",
   "version": "3.7.8",
   "mimetype": "text/x-python",
   "codemirror_mode": {
    "name": "ipython",
    "version": 3
   },
   "pygments_lexer": "ipython3",
   "nbconvert_exporter": "python",
   "file_extension": ".py"
  },
  "kernelspec": {
   "name": "python3",
   "display_name": "Python 3.7.8 64-bit"
  },
  "interpreter": {
   "hash": "57baa5815c940fdaff4d14510622de9616cae602444507ba5d0b6727c008cbd6"
  }
 },
 "nbformat": 4,
 "nbformat_minor": 2
}