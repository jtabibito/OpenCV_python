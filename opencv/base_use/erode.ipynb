{
 "cells": [
  {
   "cell_type": "markdown",
   "source": [
    "## 腐蚀"
   ],
   "metadata": {}
  },
  {
   "cell_type": "code",
   "execution_count": 2,
   "source": [
    "import numpy as np\r\n",
    "import cv2"
   ],
   "outputs": [],
   "metadata": {}
  },
  {
   "cell_type": "code",
   "execution_count": 1,
   "source": [
    "def imshow(name, img):\r\n",
    "    cv2.imshow(name, img)\r\n",
    "    cv2.waitKey(0)\r\n",
    "    cv2.destroyAllWindows()"
   ],
   "outputs": [],
   "metadata": {}
  },
  {
   "cell_type": "code",
   "execution_count": 5,
   "source": [
    "rabbit = cv2.imread('.\\\\img\\\\rabbit1.jpg')\r\n",
    "rabbit = cv2.resize(rabbit, (480, 270))\r\n",
    "imshow('rabbit', rabbit)"
   ],
   "outputs": [],
   "metadata": {}
  },
  {
   "cell_type": "code",
   "execution_count": 12,
   "source": [
    "kerode = np.ones((3, 3))\r\n",
    "rabbit_erode = cv2.erode(rabbit, kerode)\r\n",
    "imshow('rabbit_erode', rabbit_erode)"
   ],
   "outputs": [],
   "metadata": {}
  }
 ],
 "metadata": {
  "orig_nbformat": 4,
  "language_info": {
   "name": "python",
   "version": "3.7.8",
   "mimetype": "text/x-python",
   "codemirror_mode": {
    "name": "ipython",
    "version": 3
   },
   "pygments_lexer": "ipython3",
   "nbconvert_exporter": "python",
   "file_extension": ".py"
  },
  "kernelspec": {
   "name": "python3",
   "display_name": "Python 3.7.8 64-bit"
  },
  "interpreter": {
   "hash": "57baa5815c940fdaff4d14510622de9616cae602444507ba5d0b6727c008cbd6"
  }
 },
 "nbformat": 4,
 "nbformat_minor": 2
}