{
 "cells": [
  {
   "cell_type": "markdown",
   "metadata": {},
   "source": [
    "## 图像金字塔"
   ]
  },
  {
   "cell_type": "markdown",
   "metadata": {},
   "source": [
    "## 高斯金字塔:下采样(缩小)\n",
    "+ 将G与高斯kernel卷积\n",
    "$$\n",
    "\\frac{1}{16}\n",
    "\\begin{pmatrix}\n",
    "1&4&6&4&1\\\\\n",
    "4&16&24&16&4\\\\\n",
    "6&24&36&24&6\\\\\n",
    "4&16&24&16&4\\\\\n",
    "1&4&6&4&1\\\\\n",
    "\\end{pmatrix}\n",
    "$$\n",
    "+ 去除偶数行和偶数列"
   ]
  },
  {
   "cell_type": "markdown",
   "metadata": {},
   "source": [
    "## 高斯金字塔:上采样(放大)\n",
    "+ 将G扩充为与原来的2倍,用0填充\n",
    "$$\n",
    "\\begin{pmatrix}\n",
    "10&30\\\\\n",
    "56&96\\\\\n",
    "\\end{pmatrix}\n",
    "\\Rightarrow\n",
    "\\begin{pmatrix}\n",
    "10&0&30&0\\\\\n",
    "0&0&0&0\\\\\n",
    "56&0&96&0\\\\\n",
    "0&0&0&0\\\\\n",
    "\\end{pmatrix}\n",
    "$$\n",
    "+ 使用同样的内核(乘以4)与放大后的图像卷积,获得近似值"
   ]
  },
  {
   "cell_type": "code",
   "execution_count": 1,
   "metadata": {},
   "outputs": [],
   "source": [
    "import cv2\n",
    "import numpy as np"
   ]
  },
  {
   "cell_type": "code",
   "execution_count": 2,
   "metadata": {},
   "outputs": [],
   "source": [
    "def imshow(name, img):\n",
    "    cv2.imshow(name, img)\n",
    "    cv2.waitKey(0)\n",
    "    cv2.destroyAllWindows()"
   ]
  },
  {
   "cell_type": "code",
   "execution_count": 4,
   "metadata": {},
   "outputs": [
    {
     "name": "stdout",
     "output_type": "stream",
     "text": [
      "(270, 480, 3)\n"
     ]
    }
   ],
   "source": [
    "img = cv2.imread('.\\\\img\\\\cat1.jpg')\n",
    "cat_img = cv2.resize(img, (480, 270))\n",
    "print(cat_img.shape)\n",
    "imshow('cat', cat_img)"
   ]
  },
  {
   "cell_type": "code",
   "execution_count": 5,
   "metadata": {},
   "outputs": [
    {
     "name": "stdout",
     "output_type": "stream",
     "text": [
      "(135, 240, 3)\n"
     ]
    }
   ],
   "source": [
    "cat_pyrDown = cv2.pyrDown(cat_img)\n",
    "print(cat_pyrDown.shape)\n",
    "imshow('cat_pyrDown', cat_pyrDown)"
   ]
  },
  {
   "cell_type": "code",
   "execution_count": 10,
   "metadata": {},
   "outputs": [
    {
     "name": "stdout",
     "output_type": "stream",
     "text": [
      "(540, 960, 3)\n"
     ]
    }
   ],
   "source": [
    "cat_pyrUp = cv2.pyrUp(cat_img)\n",
    "print(cat_pyrUp.shape)\n",
    "imshow('cat_pyrUp', cat_pyrUp)"
   ]
  },
  {
   "cell_type": "markdown",
   "metadata": {},
   "source": [
    "## 拉普拉斯金字塔\n",
    "$$\n",
    "L_i = G_i - PyrUp(PyrDown(G_i))\n",
    "$$"
   ]
  },
  {
   "cell_type": "code",
   "execution_count": 20,
   "metadata": {},
   "outputs": [],
   "source": [
    "up_down = cv2.pyrDown(cat_pyrUp)\n",
    "cat_hstack = np.hstack((cat_img, cat_img-up_down))\n",
    "imshow('LaplacianPyramid', cat_hstack)"
   ]
  }
 ],
 "metadata": {
  "interpreter": {
   "hash": "cfdd377359446e54a0dbc4147c344b93f39386d0ac34b81f8fbd11ee54488472"
  },
  "kernelspec": {
   "display_name": "Python 3.8.1 64-bit",
   "name": "python3"
  },
  "language_info": {
   "codemirror_mode": {
    "name": "ipython",
    "version": 3
   },
   "file_extension": ".py",
   "mimetype": "text/x-python",
   "name": "python",
   "nbconvert_exporter": "python",
   "pygments_lexer": "ipython3",
   "version": "3.8.1"
  },
  "orig_nbformat": 4
 },
 "nbformat": 4,
 "nbformat_minor": 2
}
