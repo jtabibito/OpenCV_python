{
 "cells": [
  {
   "cell_type": "markdown",
   "source": [
    "## Region of interest"
   ],
   "metadata": {}
  },
  {
   "cell_type": "code",
   "execution_count": 54,
   "source": [
    "import cv2"
   ],
   "outputs": [],
   "metadata": {}
  },
  {
   "cell_type": "code",
   "execution_count": 55,
   "source": [
    "def imshow(name, img):\r\n",
    "    cv2.imshow(name, img)\r\n",
    "    cv2.waitKey(0)\r\n",
    "    cv2.destroyAllWindows()"
   ],
   "outputs": [],
   "metadata": {}
  },
  {
   "cell_type": "code",
   "execution_count": 56,
   "source": [
    "img = cv2.imread('.\\\\img\\\\rabbit1.jpg', cv2.IMREAD_COLOR)\r\n",
    "img.shape"
   ],
   "outputs": [
    {
     "output_type": "execute_result",
     "data": {
      "text/plain": [
       "(1080, 1920, 3)"
      ]
     },
     "metadata": {},
     "execution_count": 56
    }
   ],
   "metadata": {}
  },
  {
   "cell_type": "code",
   "execution_count": 57,
   "source": [
    "rabbit = img[:900, :760]\r\n",
    "imshow('rabbit', rabbit)"
   ],
   "outputs": [],
   "metadata": {}
  },
  {
   "cell_type": "code",
   "execution_count": 58,
   "source": [
    "b,g,r = cv2.split(img)\r\n",
    "print(b, b.shape)\r\n",
    "print(g, g.shape)\r\n",
    "print(r, r.shape)"
   ],
   "outputs": [
    {
     "output_type": "stream",
     "name": "stdout",
     "text": [
      "[[60 61 63 ... 43 43 42]\n",
      " [60 62 63 ... 45 44 44]\n",
      " [61 62 64 ... 46 46 47]\n",
      " ...\n",
      " [25 25 24 ... 65 64 64]\n",
      " [25 26 24 ... 64 64 63]\n",
      " [25 26 24 ... 64 63 63]] (1080, 1920)\n",
      "[[75 76 78 ... 55 55 54]\n",
      " [75 77 78 ... 57 56 56]\n",
      " [76 77 78 ... 58 58 59]\n",
      " ...\n",
      " [37 37 38 ... 86 85 85]\n",
      " [37 38 38 ... 85 85 84]\n",
      " [37 38 38 ... 85 84 84]] (1080, 1920)\n",
      "[[ 84  85  87 ...  65  65  64]\n",
      " [ 84  86  87 ...  67  66  66]\n",
      " [ 85  86  90 ...  68  68  69]\n",
      " ...\n",
      " [ 55  55  56 ... 101 100 100]\n",
      " [ 55  56  56 ... 100 100  99]\n",
      " [ 55  56  56 ... 100  99  99]] (1080, 1920)\n"
     ]
    }
   ],
   "metadata": {}
  },
  {
   "cell_type": "code",
   "execution_count": 59,
   "source": [
    "rabbit = cv2.merge((b, g, r))\r\n",
    "imshow('rabbit', rabbit)"
   ],
   "outputs": [],
   "metadata": {}
  },
  {
   "cell_type": "code",
   "execution_count": 60,
   "source": [
    "rabbit = img.copy()\r\n",
    "rabbit[...,0] = 0\r\n",
    "rabbit[...,1] = 0\r\n",
    "imshow('rabbit', rabbit)"
   ],
   "outputs": [],
   "metadata": {}
  },
  {
   "cell_type": "code",
   "execution_count": 61,
   "source": [
    "rabbit = img.copy()\r\n",
    "rabbit[...,1] = 0\r\n",
    "rabbit[...,2] = 0\r\n",
    "imshow('rabbit', rabbit)"
   ],
   "outputs": [],
   "metadata": {}
  },
  {
   "cell_type": "code",
   "execution_count": 62,
   "source": [
    "rabbit = img.copy()\r\n",
    "rabbit[...,0] = 0\r\n",
    "rabbit[...,2] = 0\r\n",
    "imshow('rabbit', rabbit)"
   ],
   "outputs": [],
   "metadata": {}
  }
 ],
 "metadata": {
  "orig_nbformat": 4,
  "language_info": {
   "name": "python",
   "version": "3.7.8"
  },
  "kernelspec": {
   "name": "python3",
   "display_name": "Python 3.7.8 64-bit"
  },
  "interpreter": {
   "hash": "57baa5815c940fdaff4d14510622de9616cae602444507ba5d0b6727c008cbd6"
  }
 },
 "nbformat": 4,
 "nbformat_minor": 2
}