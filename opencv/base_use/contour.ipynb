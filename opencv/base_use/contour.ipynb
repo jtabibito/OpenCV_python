{
 "cells": [
  {
   "cell_type": "markdown",
   "metadata": {},
   "source": [
    "## 图像轮廓\n",
    "cv2.findContours(src, mode, method)\n",
    "+ mode:轮廓检索模式\n",
    "  + RETR_EXTERNAL:检索最外层轮廓\n",
    "  + RETR_LIST:检索所有轮廓,并保存到列表中\n",
    "  + RETR_CCOMP:检索所有轮廓,并组织为2层:第一层是各部分的外部边界,第二层是空洞边界\n",
    "  + RETR_TREE:检索所有轮廓,并重构嵌套轮廓的整个层次\n",
    "+ method:轮廓逼近方法\n",
    "  + CHAIN_APPROX_NONE:以Freeman链码方式输出轮廓,所有其他方法输出多边形(顶点序列)\n",
    "  + CHAIN_APPROX_SIMPLE:压缩水平、垂直和倾斜的部分(函数只保留终点部分)"
   ]
  },
  {
   "cell_type": "code",
   "execution_count": 1,
   "metadata": {},
   "outputs": [],
   "source": [
    "import cv2\n",
    "import numpy as np"
   ]
  },
  {
   "cell_type": "code",
   "execution_count": 2,
   "metadata": {},
   "outputs": [],
   "source": [
    "def imshow(name, img):\n",
    "    cv2.imshow(name, img)\n",
    "    cv2.waitKey(0)\n",
    "    cv2.destroyAllWindows()"
   ]
  },
  {
   "cell_type": "code",
   "execution_count": 43,
   "metadata": {},
   "outputs": [],
   "source": [
    "img = cv2.imread('.\\\\img\\\\cat1.jpg')\n",
    "gray_img = cv2.cvtColor(img, cv2.COLOR_BGR2GRAY)\n",
    "ret, thresh = cv2.threshold(gray_img, 127, 255, cv2.THRESH_BINARY)\n",
    "cat_raw = cv2.resize(img, (480, 270))\n",
    "cat_img = cv2.resize(thresh, (480, 270))\n",
    "imshow('cat', cat_img)"
   ]
  },
  {
   "cell_type": "code",
   "execution_count": 55,
   "metadata": {},
   "outputs": [],
   "source": [
    "contours, hierarchy = cv2.findContours(cat_img, cv2.RETR_EXTERNAL, cv2.CHAIN_APPROX_NONE)\n",
    "img = cat_raw.copy()\n",
    "external = cv2.drawContours(img, contours, -1, (0, 0, 255), 2)\n",
    "imshow('external', external)"
   ]
  },
  {
   "cell_type": "code",
   "execution_count": 56,
   "metadata": {},
   "outputs": [],
   "source": [
    "contours2, hierarchy2 = cv2.findContours(cat_img, cv2.RETR_TREE, cv2.CHAIN_APPROX_NONE)\n",
    "img = cat_raw.copy()\n",
    "tree = cv2.drawContours(img, contours2, -1, (0, 0, 255), 2)\n",
    "imshow('tree', tree)"
   ]
  },
  {
   "cell_type": "code",
   "execution_count": 53,
   "metadata": {},
   "outputs": [],
   "source": [
    "img = cat_raw.copy()\n",
    "tree = cv2.drawContours(img, contours2, 0, (0, 0, 255), 2)\n",
    "imshow('tree', tree)"
   ]
  },
  {
   "cell_type": "code",
   "execution_count": 88,
   "metadata": {},
   "outputs": [
    {
     "name": "stdout",
     "output_type": "stream",
     "text": [
      "0\n",
      "面积0.0\n",
      "周长0.0\n",
      "1\n",
      "面积0.0\n",
      "周长0.0\n",
      "2\n",
      "面积2.5\n",
      "周长7.414213538169861\n",
      "3\n",
      "面积0.0\n",
      "周长0.0\n",
      "4\n",
      "面积0.0\n",
      "周长0.0\n",
      "5\n",
      "面积0.0\n",
      "周长0.0\n",
      "6\n",
      "面积42.5\n",
      "周长38.72792184352875\n",
      "7\n",
      "面积0.0\n",
      "周长0.0\n",
      "8\n",
      "面积0.0\n",
      "周长2.0\n",
      "9\n",
      "面积18.5\n",
      "周长27.55634891986847\n",
      "10\n",
      "面积0.0\n",
      "周长2.0\n",
      "11\n",
      "面积0.0\n",
      "周长0.0\n",
      "12\n",
      "面积0.0\n",
      "周长0.0\n",
      "13\n",
      "面积0.0\n",
      "周长2.0\n",
      "14\n",
      "面积0.0\n",
      "周长0.0\n",
      "15\n",
      "面积0.0\n",
      "周长0.0\n",
      "16\n",
      "面积28.0\n",
      "周长51.94112491607666\n",
      "17\n",
      "面积0.0\n",
      "周长2.0\n",
      "18\n",
      "面积0.0\n",
      "周长0.0\n",
      "19\n",
      "面积64.5\n",
      "周长69.01219260692596\n",
      "20\n",
      "面积0.0\n",
      "周长0.0\n",
      "21\n",
      "面积0.0\n",
      "周长4.0\n",
      "22\n",
      "面积0.0\n",
      "周长0.0\n",
      "23\n",
      "面积0.5\n",
      "周长3.414213538169861\n",
      "24\n",
      "面积0.0\n",
      "周长0.0\n",
      "25\n",
      "面积0.0\n",
      "周长0.0\n",
      "26\n",
      "面积0.0\n",
      "周长0.0\n",
      "27\n",
      "面积0.5\n",
      "周长5.414213538169861\n",
      "28\n",
      "面积1.5\n",
      "周长10.242640614509583\n",
      "29\n",
      "面积0.0\n",
      "周长2.0\n",
      "30\n",
      "面积0.0\n",
      "周长0.0\n",
      "31\n",
      "面积0.0\n",
      "周长0.0\n",
      "32\n",
      "面积0.0\n",
      "周长0.0\n",
      "33\n",
      "面积0.0\n",
      "周长0.0\n",
      "34\n",
      "面积0.5\n",
      "周长3.414213538169861\n",
      "35\n",
      "面积0.0\n",
      "周长0.0\n",
      "36\n",
      "面积1.5\n",
      "周长9.071067690849304\n",
      "37\n",
      "面积0.0\n",
      "周长0.0\n",
      "38\n",
      "面积0.0\n",
      "周长0.0\n",
      "39\n",
      "面积0.0\n",
      "周长0.0\n",
      "40\n",
      "面积0.0\n",
      "周长0.0\n",
      "41\n",
      "面积0.0\n",
      "周长0.0\n",
      "42\n",
      "面积0.0\n",
      "周长0.0\n",
      "43\n",
      "面积115064.0\n",
      "周长3324.7921843528748\n"
     ]
    }
   ],
   "source": [
    "for i in range(len(contours)):\n",
    "    print(i)\n",
    "    print('面积{}'.format(cv2.contourArea(contours[i])))\n",
    "    print('周长{}'.format(cv2.arcLength(contours[i], True)))"
   ]
  },
  {
   "cell_type": "markdown",
   "metadata": {},
   "source": [
    "## 轮廓近似"
   ]
  },
  {
   "cell_type": "code",
   "execution_count": 89,
   "metadata": {},
   "outputs": [],
   "source": [
    "img = cat_raw.copy()\n",
    "tree = cv2.drawContours(img, [contours[19]], -1, (0, 0, 255), 2)\n",
    "imshow('tree', tree)"
   ]
  },
  {
   "cell_type": "code",
   "execution_count": 92,
   "metadata": {},
   "outputs": [],
   "source": [
    "approx_param = 0.1\n",
    "epsilon = approx_param*cv2.arcLength(contours[19], True)\n",
    "approx = cv2.approxPolyDP(contours[19], epsilon, True)\n",
    "\n",
    "img = cat_raw.copy()\n",
    "tree = cv2.drawContours(img, [contours[19]], -1, (0, 0, 255), 2)\n",
    "imshow('tree', tree)"
   ]
  },
  {
   "cell_type": "markdown",
   "metadata": {},
   "source": [
    "## 边界矩形"
   ]
  },
  {
   "cell_type": "code",
   "execution_count": 93,
   "metadata": {},
   "outputs": [],
   "source": [
    "x,y,w,h = cv2.boundingRect(contours[19])\n",
    "img = cv2.rectangle(img, (x, y), (x+w, y+h), (0, 255, 0), 2)\n",
    "imshow('img', img)"
   ]
  },
  {
   "cell_type": "code",
   "execution_count": 95,
   "metadata": {},
   "outputs": [
    {
     "name": "stdout",
     "output_type": "stream",
     "text": [
      "轮廓面积与边界矩形面积比 = 0.17916666666666667\n"
     ]
    }
   ],
   "source": [
    "area = cv2.contourArea(contours[19])\n",
    "rect_area = w*h\n",
    "ratio = float(area)/rect_area\n",
    "print('轮廓面积与边界矩形面积比 = {}'.format(ratio))"
   ]
  },
  {
   "cell_type": "markdown",
   "metadata": {},
   "source": [
    "## 外接圆"
   ]
  },
  {
   "cell_type": "code",
   "execution_count": 98,
   "metadata": {},
   "outputs": [],
   "source": [
    "(x,y),radius = cv2.minEnclosingCircle(contours[19])\n",
    "center = (int(x), int(y))\n",
    "radius = int(radius)\n",
    "img = cv2.circle(img, center, radius, (255, 0, 0), 2)\n",
    "imshow('img', img)"
   ]
  }
 ],
 "metadata": {
  "interpreter": {
   "hash": "cfdd377359446e54a0dbc4147c344b93f39386d0ac34b81f8fbd11ee54488472"
  },
  "kernelspec": {
   "display_name": "Python 3.8.1 64-bit",
   "name": "python3"
  },
  "language_info": {
   "codemirror_mode": {
    "name": "ipython",
    "version": 3
   },
   "file_extension": ".py",
   "mimetype": "text/x-python",
   "name": "python",
   "nbconvert_exporter": "python",
   "pygments_lexer": "ipython3",
   "version": "3.8.1"
  },
  "orig_nbformat": 4
 },
 "nbformat": 4,
 "nbformat_minor": 2
}
